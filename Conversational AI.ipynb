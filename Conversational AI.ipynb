{
  "nbformat": 4,
  "nbformat_minor": 0,
  "metadata": {
    "colab": {
      "provenance": []
    },
    "kernelspec": {
      "name": "python3",
      "display_name": "Python 3"
    },
    "language_info": {
      "name": "python"
    }
  },
  "cells": [
    {
      "cell_type": "markdown",
      "source": [
        "**Conversational AI**\n",
        "\n",
        "This application is a chatbot that can understand and respond to user messages in an emotionally intelligent way.\n",
        "\n",
        "It's a conversational AI that understands and responds to user messages, using sentiment analysis to recognize emotions. It handles greetings, farewells, and gratitude and adapts to the user's mood for more interactive conversations."
      ],
      "metadata": {
        "id": "zwwoXh1V2nlC"
      }
    },
    {
      "cell_type": "markdown",
      "source": [
        "**Load Pre-Requisite**\n",
        "\n",
        "**spaCy**\n",
        "\n",
        "spaCy is a popular open-source Python library for natural language processing. It is known for its efficiency, speed, and ease of use, making it a preferred tool for a wide range of NLP tasks. spaCy provides pre-trained models for different languages, including English, German, Spanish, and more, delivering state-of-the-art performance and accuracy in NLP tasks.\n",
        "\n",
        "**TextBlob**\n",
        "\n",
        "TextBlob is a library used for sentiment analysis, capable of determining the emotional tone (positive, negative, or neutral) in text data."
      ],
      "metadata": {
        "id": "EPVcD40a3Tj8"
      }
    },
    {
      "cell_type": "code",
      "source": [
        "# Import required libraries\n",
        "import spacy  # spaCy is used for natural language processing (NLP)\n",
        "from textblob import TextBlob  # TextBlob is used for sentiment analysis"
      ],
      "metadata": {
        "id": "3PQJPOUw2ZV5"
      },
      "execution_count": null,
      "outputs": []
    },
    {
      "cell_type": "markdown",
      "source": [
        "Loads the spaCy model for the English language, specifically the \"en_core_web_sm\" model."
      ],
      "metadata": {
        "id": "eMIjjY1s5RGM"
      }
    },
    {
      "cell_type": "code",
      "source": [
        "# Load the spaCy model for English\n",
        "nlp = spacy.load(\"en_core_web_sm\")"
      ],
      "metadata": {
        "id": "GB6u4An12eAm"
      },
      "execution_count": null,
      "outputs": []
    },
    {
      "cell_type": "markdown",
      "source": [
        "Defines a dictionary called responses that associates specific user intents or situations with corresponding chatbot responses."
      ],
      "metadata": {
        "id": "SdllVmvN6D9T"
      }
    },
    {
      "cell_type": "code",
      "source": [
        "# Define a dictionary of responses\n",
        "responses = {\n",
        "    \"hello\": \"Hello! How can I assist you today?\",\n",
        "    \"bye\": \"Goodbye! Have a great day.\",\n",
        "    \"thanks\": \"You're welcome!\",\n",
        "    \"feelings\": \"I sense you're feeling {}, is there anything specific you'd like to talk about?\",\n",
        "    \"default\": \"I'm sorry, I don't have information on that topic. Please ask me something else.\",\n",
        "}"
      ],
      "metadata": {
        "id": "j7TxO81K2gDF"
      },
      "execution_count": null,
      "outputs": []
    },
    {
      "cell_type": "markdown",
      "source": [
        "Defines a function named `get_sentiment` that performs sentiment analysis on a given text. It utilizes the TextBlob library to calculate the sentiment polarity of the text, which represents how positive, negative, or neutral the text's emotional tone is.\n",
        "\n",
        "- If the sentiment polarity is greater than 0, it is categorized as \"positive.\"\n",
        "- If the sentiment polarity is less than 0, it is categorized as \"negative.\"\n",
        "- If the sentiment polarity is 0, it is categorized as \"neutral.\"\n",
        "\n",
        "The function returns one of these sentiment categories based on the sentiment analysis results."
      ],
      "metadata": {
        "id": "qBSRXUOd6eQd"
      }
    },
    {
      "cell_type": "code",
      "source": [
        "# Function to perform sentiment analysis\n",
        "def get_sentiment(text):\n",
        "    # Use TextBlob for sentiment analysis, which calculates the polarity of the text\n",
        "    analysis = TextBlob(text)\n",
        "    sentiment = analysis.sentiment.polarity\n",
        "\n",
        "    # Determine the sentiment as positive, negative, or neutral\n",
        "    if sentiment > 0:\n",
        "        return \"positive\"\n",
        "    elif sentiment < 0:\n",
        "        return \"negative\"\n",
        "    else:\n",
        "        return \"neutral\""
      ],
      "metadata": {
        "id": "Q0oe5a022hOU"
      },
      "execution_count": null,
      "outputs": []
    },
    {
      "cell_type": "markdown",
      "source": [
        "Define a function called `generate_response` that processes user input using spaCy.\n",
        "\n",
        "It identifies specific user intents within the processed text, such as greetings (e.g., \"hello\"), farewells (e.g., \"bye\"), and expressions of gratitude (e.g., \"thank you\" or \"thanks\").\n",
        "\n",
        "If a specific intent is recognized, it returns the corresponding response. If no specific intent is found, it performs sentiment analysis on the user's input and responds based on the detected sentiment, acknowledging the user's feelings."
      ],
      "metadata": {
        "id": "7C0MXmJ763i8"
      }
    },
    {
      "cell_type": "code",
      "source": [
        "# Function to generate responses\n",
        "def generate_response(question):\n",
        "    # Process the user's question using spaCy\n",
        "    doc = nlp(question)\n",
        "    intent = None  # Initialize intent as None\n",
        "\n",
        "    # Check for specific user intents within the processed text\n",
        "    for token in doc:\n",
        "        if \"hello\" in token.text.lower():\n",
        "            intent = \"hello\"\n",
        "        elif \"bye\" in token.text.lower():\n",
        "            intent = \"bye\"\n",
        "        elif \"thank you\" in token.text.lower() or \"thanks\" in token.text.lower():\n",
        "            intent = \"thanks\"\n",
        "\n",
        "    if intent:\n",
        "        # If a specific intent is recognized, return the corresponding response\n",
        "        return responses[intent]\n",
        "    else:\n",
        "        # If no specific intent is found, perform sentiment analysis\n",
        "        sentiment = get_sentiment(question)\n",
        "\n",
        "        # Provide a response based on the detected sentiment\n",
        "        return responses[\"feelings\"].format(sentiment)"
      ],
      "metadata": {
        "id": "8UX3svuN2i51"
      },
      "execution_count": null,
      "outputs": []
    },
    {
      "cell_type": "markdown",
      "source": [
        "This code block initiates a chat loop where the chatbot interacts with the user. It displays a greeting message and waits for the user to input messages. If the user types \"exit,\" the conversation ends. For other input, the chatbot generates and displays a response using the `generate_response` function."
      ],
      "metadata": {
        "id": "pPaWg4jL7Lqk"
      }
    },
    {
      "cell_type": "code",
      "source": [
        "# Chat loop\n",
        "print(\"Chatbot: Hello! How can I assist you today? Type 'exit' to end the conversation.\")\n",
        "while True:\n",
        "    user_input = input(\"You: \").strip()\n",
        "    if user_input.lower() == \"exit\":\n",
        "        print(\"Chatbot: Goodbye!\")\n",
        "        break\n",
        "    response = generate_response(user_input)\n",
        "    print(\"Chatbot:\", response)"
      ],
      "metadata": {
        "id": "GI0qR2UN2k8j"
      },
      "execution_count": null,
      "outputs": []
    },
    {
      "cell_type": "markdown",
      "source": [
        "Play & Improvise!"
      ],
      "metadata": {
        "id": "w45sAkGe7iEM"
      }
    }
  ]
}